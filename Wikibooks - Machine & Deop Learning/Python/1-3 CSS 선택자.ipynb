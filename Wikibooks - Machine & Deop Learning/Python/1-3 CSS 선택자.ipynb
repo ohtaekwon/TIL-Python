{
 "cells": [
  {
   "cell_type": "markdown",
   "metadata": {},
   "source": [
    "# 1) CSS 선택자\n",
    "    1.HTML 구조 확인\n",
    "    2.CSS 선택자\n",
    "    3.알고리즘과 툴 - 웹 브라우저(구글 크롬) "
   ]
  },
  {
   "cell_type": "markdown",
   "metadata": {},
   "source": [
    "### 1-1) 웹 브라우저로 HTML 구조\n",
    "\n",
    "    HTML 구조를 확인할 때 웹 브라우저가 제공하는 개발자 도구를 사용하는 것이 좋다. \n",
    "\n",
    "    방법 : 구글 크롬(Google Chrome)에서 분석 - 마우스 우 클릭 - 컨텍스트 메뉴 - [검사] - 개발자 도구"
   ]
  },
  {
   "cell_type": "markdown",
   "metadata": {},
   "source": [
    "### 1-2) 원하는 요소 선택하기\n",
    "    팝업 메뉴 [Copy > Copy selector]"
   ]
  },
  {
   "cell_type": "code",
   "execution_count": 1,
   "metadata": {},
   "outputs": [],
   "source": [
    "#mw-content-text > div.mw-parser-output > ul:nth-child(6) > li > b > a \n",
    "# → nth-child(6)에서 (6)은 여섯 번째에 있는 태그라는 것을 의미한다.\n",
    "\n",
    "# 즉, 현재 페이지들ㄹ 조금 더 분석해보면 #mw-content-text 내부에 있는 u1 태그는 모두 작품과 관련된 태그이다. \n",
    "# 따라서 따로 구분할 필요가 없음\n",
    "\n",
    "from bs4 import BeautifulSoup\n",
    "import urllib.request as req\n",
    "\n",
    "# 따로 입력학지 말고 위키 문헌 홈페이지에 들어간 뒤에 주소를 복사해서 사용.\n",
    "url = \"https://ko.wikisource.org/wiki/%EC%A0%80%EC%9E%90:%EC%9C%A4%EB%8F%99%EC%A3%BC\"\n",
    "res = req.urlopen(url)\n",
    "soup = BeautifulSoup(res, \"html.parser\")\n",
    "\n",
    "# #mw-content-text 바로 아래에 있는 \n",
    "# ul 태그 바로 아래에 있는\n",
    "# li 태그 아래에 있는\n",
    "# a 태그를 모두 선택합니다.\n",
    "a_list = soup.select(\"#mw-content-text>div>ul>li a\")\n",
    "\n",
    "for a in a_list:\n",
    "    name = a.string\n",
    "    print(\"-\", name)"
   ]
  },
  {
   "cell_type": "code",
   "execution_count": 2,
   "metadata": {},
   "outputs": [
    {
     "ename": "ModuleNotFoundError",
     "evalue": "No module named 'botengine'",
     "output_type": "error",
     "traceback": [
      "\u001b[1;31m---------------------------------------------------------------------------\u001b[0m",
      "\u001b[1;31mModuleNotFoundError\u001b[0m                       Traceback (most recent call last)",
      "\u001b[1;32m<ipython-input-2-ae99e4944269>\u001b[0m in \u001b[0;36m<module>\u001b[1;34m\u001b[0m\n\u001b[0;32m      1\u001b[0m \u001b[1;31m#!/usr/bin/env python3\u001b[0m\u001b[1;33m\u001b[0m\u001b[1;33m\u001b[0m\u001b[1;33m\u001b[0m\u001b[0m\n\u001b[0;32m      2\u001b[0m \u001b[1;32mimport\u001b[0m \u001b[0mcgi\u001b[0m\u001b[1;33m\u001b[0m\u001b[1;33m\u001b[0m\u001b[0m\n\u001b[1;32m----> 3\u001b[1;33m \u001b[1;32mfrom\u001b[0m \u001b[0mbotengine\u001b[0m \u001b[1;32mimport\u001b[0m \u001b[0mmake_reply\u001b[0m\u001b[1;33m\u001b[0m\u001b[1;33m\u001b[0m\u001b[0m\n\u001b[0m\u001b[0;32m      4\u001b[0m \u001b[1;31m# 입력 양식의 글자 추출하기 --- (※1)\u001b[0m\u001b[1;33m\u001b[0m\u001b[1;33m\u001b[0m\u001b[1;33m\u001b[0m\u001b[0m\n\u001b[0;32m      5\u001b[0m \u001b[0mform\u001b[0m \u001b[1;33m=\u001b[0m \u001b[0mcgi\u001b[0m\u001b[1;33m.\u001b[0m\u001b[0mFieldStorage\u001b[0m\u001b[1;33m(\u001b[0m\u001b[1;33m)\u001b[0m\u001b[1;33m\u001b[0m\u001b[1;33m\u001b[0m\u001b[0m\n",
      "\u001b[1;31mModuleNotFoundError\u001b[0m: No module named 'botengine'"
     ]
    }
   ],
   "source": [
    "#!/usr/bin/env python3\n",
    "import cgi\n",
    "from botengine import make_reply\n",
    "# 입력 양식의 글자 추출하기 --- (※1)\n",
    "form = cgi.FieldStorage()\n",
    "# 메인 처리 --- (※2)\n",
    "def main():\n",
    "    m = form.getvalue(\"m\", default=\"\")\n",
    "    if   m == \"\" : show_form()\n",
    "    elif m == \"say\" : api_say()\n",
    "# 사용자의 입력에 응답하기 --- (※3)\n",
    "def api_say():\n",
    "    print(\"Content-Type: text/plain; charset=utf-8\")\n",
    "    print(\"\")\n",
    "    txt = form.getvalue(\"txt\", default=\"\")\n",
    "    if txt == \"\": return\n",
    "    res = make_reply(txt)\n",
    "    print(res)\n",
    "# 입력 양식 출력하기 --- (※4)\n",
    "def show_form():\n",
    "    print(\"Content-Type: text/html; charset=utf-8\")\n",
    "    print(\"\")\n",
    "    print(\"\"\"\n",
    "    <html><meta charset=\"utf-8\"><body>\n",
    "    <script src=\"https://code.jquery.com/jquery-3.1.1.min.js\"></script>\n",
    "    <style>\n",
    "        h1   { background-color: #ffe0e0; }\n",
    "        div  { padding:10px; }\n",
    "        span { border-radius: 10px; background-color: #ffe0e0; padding:8px; }\n",
    "        .bot { text-align: left; }\n",
    "        .usr { text-align: right; }\n",
    "    </style>\n",
    "    <h1>대화하기</h1>\n",
    "    <div id=\"chat\"></div>\n",
    "    <div class='usr'><input id=\"txt\" size=\"40\">\n",
    "    <button onclick=\"say()\">전송</button></div>\n",
    "    <script>\n",
    "    var url = \"./chatbot.py\";\n",
    "    function say() {\n",
    "      var txt = $('#txt').val();\n",
    "      $.get(url, {\"m\":\"say\",\"txt\":txt},\n",
    "        function(res) {\n",
    "          var html = \"<div class='usr'><span>\" + esc(txt) +\n",
    "            \"</span>: 나</div><div class='bot'> 봇:<span>\" + \n",
    "            esc(res) + \"</span></div>\";\n",
    "          $('#chat').html($('#chat').html()+html);\n",
    "          $('#txt').val('').focus();\n",
    "        });\n",
    "    }\n",
    "    function esc(s) {\n",
    "        return s.replace('&', '&amp;').replace('<','&lt;')\n",
    "                .replace('>', '&gt;');\n",
    "    }\n",
    "    </script></body></html>\n",
    "    \"\"\")\n",
    "main()"
   ]
  },
  {
   "cell_type": "code",
   "execution_count": null,
   "metadata": {},
   "outputs": [],
   "source": []
  }
 ],
 "metadata": {
  "kernelspec": {
   "display_name": "Python 3",
   "language": "python",
   "name": "python3"
  },
  "language_info": {
   "codemirror_mode": {
    "name": "ipython",
    "version": 3
   },
   "file_extension": ".py",
   "mimetype": "text/x-python",
   "name": "python",
   "nbconvert_exporter": "python",
   "pygments_lexer": "ipython3",
   "version": "3.8.3"
  }
 },
 "nbformat": 4,
 "nbformat_minor": 4
}
