{
 "cells": [
  {
   "cell_type": "markdown",
   "metadata": {},
   "source": [
    "## 1) BeuatifulSoup로 스크레이핑하기"
   ]
  },
  {
   "cell_type": "markdown",
   "metadata": {},
   "source": [
    "### 1-3) BeautifulSoup 기본 사용법"
   ]
  },
  {
   "cell_type": "code",
   "execution_count": 38,
   "metadata": {},
   "outputs": [
    {
     "name": "stdout",
     "output_type": "stream",
     "text": [
      "h1 = 스크레이핑이란?\n",
      "p = 웹 페이지를 분석하는 것\n",
      "p = 원하는 부분을 추출하는 것\n"
     ]
    }
   ],
   "source": [
    "# 라이브러리 읽어 들이기 ---(※1) : BeautifulSoup 라이브러리를 읽어 들임.\n",
    "from bs4 import BeautifulSoup\n",
    "\n",
    "# 분석하고 싶은 HTML ---(※2) : 분석 대상 HTML 지정\n",
    "html = \"\"\"\n",
    "<html><body>\n",
    "    <h1>스크레이핑이란?</h1>\n",
    "    <p>웹 페이지를 분석하는 것</p>\n",
    "    <p>원하는 부분을 추출하는 것</p>\n",
    "</body></html>\n",
    "\"\"\"\n",
    "\n",
    "#HTML 분석하기 ---(※3) : BeautifulSoup 인스턴스를 생성, \n",
    "soup = BeautifulSoup(html, 'html.parser') #첫 번째 매개변수에 html 지정, 두 번째 매개변수에 분석할 분석기(parser)의 종류 지정\n",
    "\n",
    "# 원하는 부분 추출하기 ---(※4) : 원하는 부분을 추출 (정상적으로 PARSER가 되면 HTML구조 처럼 루트 요소인 <html>에서 마침표를 사용해야한다.)\n",
    "h1 = soup.html.body.h1\n",
    "p1 = soup.html.body.p\n",
    "p2 = p1.next_sibling.next_sibling # next_soibling을 사용하여 첫번째 </p> 뒤에 있는 줄바꿈 또는 공백이 추출된다. 따라서 두 번 사용\n",
    "\n",
    "# 요소의 글자 출력하기 ---(※5) : string 속성에 접근해서 요소의 글자 부분을 추출\n",
    "print(\"h1 = \" + h1.string)\n",
    "print(\"p = \" + p1.string)\n",
    "print(\"p = \" + p2.string)"
   ]
  },
  {
   "cell_type": "markdown",
   "metadata": {},
   "source": [
    "### 2-1) id로 요소를 찾는 방법\n",
    "    html구조를 하나하나 적어나가는 것은 귀찮고 복잡하기 때문에 간단하게 요소를 찾기 위해 사용함."
   ]
  },
  {
   "cell_type": "code",
   "execution_count": 39,
   "metadata": {},
   "outputs": [
    {
     "name": "stdout",
     "output_type": "stream",
     "text": [
      "#title=스크레이핑이란?\n",
      "#body=웹 페이지를 분석하는 것\n"
     ]
    }
   ],
   "source": [
    "from bs4 import BeautifulSoup\n",
    "\n",
    "html = \"\"\"\n",
    "<html><body>\n",
    "    <h1 id=\"title\">스크레이핑이란?</h1>\n",
    "    <p id=\"body\">웹 페이지를 분석하는 것</p>\n",
    "    <p>원하는 부분을 추출하는 것</p>\n",
    "</body></html>\n",
    "\"\"\"\n",
    "\n",
    "# HTML 분석하기 ---(※1) : BeautifulSoup 인스턴스를 생성\n",
    "soup = BeautifulSoup(html, 'html.parser') # 첫 번째 매개변수에 분석하고 싶은 html 지정 두 번째 매개변수에는 분석할 분석기(parser)\n",
    "\n",
    "# find() 메서드로 원하는 부분 추출하기 ---(※2) : id를 지정해 요소를 추출\n",
    "title = soup.find(id=\"title\") # find() 메서드에 \"id=<값>\"형태로 매개변수를 지정\n",
    "body = soup.find(id=\"body\")\n",
    "\n",
    "# 텍스트 부분 출력하기\n",
    "print(\"#title=\" + title.string)\n",
    "print(\"#body=\" + body.string)"
   ]
  },
  {
   "cell_type": "markdown",
   "metadata": {},
   "source": [
    "### 2-2) 여러 개의 요소 추출하기 - find_all()메서드\n",
    "\n",
    "    여러 개의 태그를 한 번에 추출하고 싶을 때는 find_all() 메서드를 사용한다.\n",
    "        ·<a> 태그 추출\n",
    "        ·하이퍼링크 태그\n",
    "        ·href 속성으로 지정"
   ]
  },
  {
   "cell_type": "code",
   "execution_count": 40,
   "metadata": {},
   "outputs": [
    {
     "name": "stdout",
     "output_type": "stream",
     "text": [
      "naver > http://www.naver.com\n",
      "daum > http://www.daum.net\n"
     ]
    }
   ],
   "source": [
    "from bs4 import BeautifulSoup\n",
    "html = \"\"\"\n",
    "<html><body>\n",
    "<u1>\n",
    "    <li><a href=\"http://www.naver.com\">naver</a></li>\n",
    "    <li><a href=\"http://www.daum.net\">daum</a></li>\n",
    "</u1>\n",
    "</body></html>\n",
    "\"\"\"\n",
    "\n",
    "# HTML 분석하기 ---(※1) HTML을 지정해 BeautifulSoup 인스턴스를 생성\n",
    "soup = BeautifulSoup(html, 'html.parser')\n",
    "\n",
    "# find_all() 메서드로 추출하기 ---(※2) find_all 메서드를 사용해 모든 <a>태그를 추출\n",
    "links = soup.find_all(\"a\")\n",
    "\n",
    "# 링크 목록 출력하기 ---(※3) 추출한 모든 요소를 for 구문으로 반복 처리\n",
    "for a in links:\n",
    "    href = a.attrs['href'] #href 속성은 attrs['href]처럼 attrs속성에서 추출\n",
    "    text = a.string\n",
    "    print(text, \">\", href)"
   ]
  },
  {
   "cell_type": "code",
   "execution_count": 41,
   "metadata": {},
   "outputs": [
    {
     "data": {
      "text/plain": [
       "[<a href=\"http://www.naver.com\">naver</a>,\n",
       " <a href=\"http://www.daum.net\">daum</a>]"
      ]
     },
     "execution_count": 41,
     "metadata": {},
     "output_type": "execute_result"
    }
   ],
   "source": [
    "links"
   ]
  },
  {
   "cell_type": "markdown",
   "metadata": {},
   "source": [
    "### 2-3) DOM 요소의 속성에 대해"
   ]
  },
  {
   "cell_type": "code",
   "execution_count": 42,
   "metadata": {},
   "outputs": [
    {
     "data": {
      "image/png": "[encoded data removed]",
      "text/plain": [
       "<PIL.Image.Image image mode=P size=800x400 at 0x1B29A597E20>"
      ]
     },
     "execution_count": 42,
     "metadata": {},
     "output_type": "execute_result"
    }
   ],
   "source": [
    "from PIL import Image\n",
    "img = Image.open('img_DOM.png') # 이미지 불러오기\n",
    "img = img.resize((800,400))\n",
    "img\n"
   ]
  },
  {
   "cell_type": "markdown",
   "metadata": {},
   "source": [
    "### 3-1) urlopen()과 BeautifuSoup 조합하기"
   ]
  },
  {
   "cell_type": "code",
   "execution_count": 43,
   "metadata": {},
   "outputs": [
    {
     "name": "stdout",
     "output_type": "stream",
     "text": [
      "기상청 육상 중기예보\n",
      "○ (강수) 15일(금)은 중부지방(강원영동 제외)과 전라권에 비 또는 눈이 오겠고, 전라권은 16일(토)까지 이어지겠습니다. 22일(금)은 남부지방과 제주도에 비가 오겠습니다. <br />○ (기온) 15일(금)의 아침 기온은 -6~8도, 낮 기온은 6~15도로 오늘(아침 기온 -15~-3도, 낮 기온 -3~6도)보다 높겠습니다.<br />          한편, 16일(토)~18일(월)의 아침 기온은 -16~3도, 낮 기온은 -3~8도로 평년(아침 기온 -10~0도, 낮 기온 1~8도)보다 낮아 춥겠고, <br />          19일(화)~22일(금)의 아침 기온은 -9~6도, 낮 기온은 2~11도로 평년과 비슷하거나 조금 높겠습니다.      <br />○ (해상) 16일(토)~17일(일)은 대부분 해상에서 바람이 매우 강하게 불고, 물결이 2.0~4.0m로 매우 높게 일겠습니다.<br />○ (주말전망) 16일(토) 오전에 전라권에 눈이 오겠고, 강원영동을 제외한 그 밖의 지역은 구름이 많겠습니다. 17일(일) 대체로 맑겠으나, 전라권은 구름많겠습니다. <br />              아침 기온은 -16~3도, 낮 기온은 -3~6도의 분포가 되겠습니다. 특히, 17일(일) 아침 기온은 전국 대부분 지역이 -5도 이하(중부지방 -10도 내외)로 떨어져 춥겠습니다.\n"
     ]
    }
   ],
   "source": [
    "from bs4 import BeautifulSoup\n",
    "import urllib.request as req\n",
    "\n",
    "url = \"http://www.kma.go.kr/weather/forecast/mid-term-rss3.jsp\"\n",
    "\n",
    "# urlopen()으로 데이터 가져오기 ---(※1) : urlopen()으로 URL을 열기.\n",
    "res = req.urlopen(url)\n",
    "\n",
    "# BeautifulSoup으로 분석하기 ---(※2) : BeautifuSoup으로 분석\n",
    "soup = BeautifulSoup(res, \"html.parser\")\n",
    "\n",
    "#원하는 데이터 추출하기 ---(※3) : 원하는 태그를 추출하고 결과를 출력\n",
    "title = soup.find(\"title\").string\n",
    "wf = soup.find(\"wf\").string\n",
    "print(title)\n",
    "print(wf)"
   ]
  },
  {
   "cell_type": "markdown",
   "metadata": {},
   "source": [
    "    : RSS에서 XML 데이터를 추출하고 XML의 내용을 출력"
   ]
  },
  {
   "cell_type": "markdown",
   "metadata": {},
   "source": [
    "### 3-2) CSS 선택자 사용하기\n"
   ]
  },
  {
   "cell_type": "code",
   "execution_count": 44,
   "metadata": {},
   "outputs": [
    {
     "data": {
      "image/png": "[encoded data removed]",
      "text/plain": [
       "<PIL.Image.Image image mode=RGB size=600x100 at 0x1B29A597940>"
      ]
     },
     "execution_count": 44,
     "metadata": {},
     "output_type": "execute_result"
    }
   ],
   "source": [
    "from PIL import Image\n",
    "img = Image.open('css.jpg') # 이미지 불러오기\n",
    "img = img.resize((600,100))\n",
    "img"
   ]
  },
  {
   "cell_type": "code",
   "execution_count": 47,
   "metadata": {},
   "outputs": [
    {
     "name": "stdout",
     "output_type": "stream",
     "text": [
      "h1=  위키북스 도서 \n"
     ]
    }
   ],
   "source": [
    "from bs4 import BeautifulSoup\n",
    "\n",
    "# 분석 대상 HTML ---(※1)\n",
    "html = \"\"\"\n",
    "<html><body>\n",
    "<div id = \"meigen\">\n",
    "<h1> 위키북스 도서 </h1>\n",
    "    <ul class = \"items\">\n",
    "        <li> 유니티 게임 이팩트 입문 </li>\n",
    "        <li> 스위프트로 시작하는 아이폰 앱 개발 교과서 </li>\n",
    "        <li> 모던 웹사이트 디자인의 정석 </li>\n",
    "    </ul>\n",
    "</div>\n",
    "</body></html>\n",
    "\"\"\"\n",
    "\n",
    "# HTML 분석하기 ---(※2)\n",
    "soup = BeautifulSoup(html, 'html.parser')\n",
    "\n",
    "# 필요한 부분을 CSS 쿼리로 추출하기\n",
    "# 타이틀 부분 추출하기 ---(※3)\n",
    "h1 = soup.select_one(\"div#meigen > h1\").string\n",
    "print(\"h1=\", h1)\n",
    "\n",
    "# 목록 부분 추출하기 ---(※4)\n",
    "li_list = soup.select(\"div#meigen > ul.items > li\")\n",
    "for li in li_list:\n",
    "    print(\"li=\",li.string)"
   ]
  },
  {
   "cell_type": "code",
   "execution_count": null,
   "metadata": {},
   "outputs": [],
   "source": []
  },
  {
   "cell_type": "code",
   "execution_count": null,
   "metadata": {},
   "outputs": [],
   "source": []
  }
 ],
 "metadata": {
  "kernelspec": {
   "display_name": "Python 3",
   "language": "python",
   "name": "python3"
  },
  "language_info": {
   "codemirror_mode": {
    "name": "ipython",
    "version": 3
   },
   "file_extension": ".py",
   "mimetype": "text/x-python",
   "name": "python",
   "nbconvert_exporter": "python",
   "pygments_lexer": "ipython3",
   "version": "3.8.3"
  }
 },
 "nbformat": 4,
 "nbformat_minor": 4
}
