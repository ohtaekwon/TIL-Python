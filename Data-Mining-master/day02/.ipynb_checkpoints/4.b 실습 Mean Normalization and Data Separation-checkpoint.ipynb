{
 "cells": [
  {
   "cell_type": "markdown",
   "metadata": {},
   "source": [
    "# Mean Normalization\n",
    "\n",
    "머신러닝 및 데이터 분석에서는 데이터 노멀라이징(정규화)을 합니다. \n",
    "정규화는 데이터의 범위를 0과 1로 변환하여 데이터 분포를 조정하는 방법입니다.\n",
    "예를 들어 여러개의 feature가 있는데 어떤거는 100 ~ 200사이의 값이고, 어떤거는 -10 ~ 10 사이의 값이고, 어떤거는 -100 ~ 300 사이의 값이라고 해보면, 이 값들을 분석하기 쉽지가 않습니다. 따라서 이런 불편을 줄이기 위해 범주를 일치시키는 작업을 normalization 이라 합니다. 보통은 0 ~ 1 사이의 값으로 범주를 일치시킵니다.\n",
    "\n"
   ]
  },
  {
   "cell_type": "code",
   "execution_count": 1,
   "metadata": {},
   "outputs": [],
   "source": [
    "# import NumPy  \n",
    "import numpy as np"
   ]
  },
  {
   "cell_type": "code",
   "execution_count": 2,
   "metadata": {},
   "outputs": [],
   "source": [
    "# 1000 x 20 ndarray 배열을, 0이상 5001미만(0 ~ 5000) 의 random integers 로 만드세요.\n",
    "\n",
    "X = np.random.randint(0, 5000, size = (1000,20))"
   ]
  },
  {
   "cell_type": "code",
   "execution_count": 3,
   "metadata": {},
   "outputs": [
    {
     "data": {
      "text/plain": [
       "(1000, 20)"
      ]
     },
     "execution_count": 3,
     "metadata": {},
     "output_type": "execute_result"
    }
   ],
   "source": [
    "# print the shape of X\n",
    "X.shape\n"
   ]
  },
  {
   "cell_type": "code",
   "execution_count": 4,
   "metadata": {},
   "outputs": [
    {
     "data": {
      "text/plain": [
       "array([[3718, 3944,  277, ..., 3954,   61, 4632],\n",
       "       [2444, 3618, 1618, ..., 2916, 1872, 1234],\n",
       "       [1141, 4572, 3885, ..., 4257, 2110, 2716],\n",
       "       ...,\n",
       "       [2835, 2734, 2450, ..., 3093, 1986, 3244],\n",
       "       [1271,  557, 1408, ..., 1537, 4685, 3771],\n",
       "       [2784, 4705, 1522, ...,  563, 2468,   11]])"
      ]
     },
     "execution_count": 4,
     "metadata": {},
     "output_type": "execute_result"
    }
   ],
   "source": [
    "X"
   ]
  },
  {
   "cell_type": "markdown",
   "metadata": {},
   "source": [
    "다음의 mean normalization 식을 이용해서 정규화 하세요.\n",
    "\n",
    "$\\mbox{Norm_Col}_i = \\frac{\\mbox{Col}_i - \\mu_i}{\\sigma_i}$\n",
    "\n",
    "평균과 표준편차를 이용하면, 위의 정규화 식을 사용할 수 있습니다.\n",
    "\n"
   ]
  },
  {
   "cell_type": "code",
   "execution_count": 5,
   "metadata": {},
   "outputs": [
    {
     "data": {
      "text/plain": [
       "2489.9948"
      ]
     },
     "execution_count": 5,
     "metadata": {},
     "output_type": "execute_result"
    }
   ],
   "source": [
    "np.mean(X)"
   ]
  },
  {
   "cell_type": "code",
   "execution_count": 6,
   "metadata": {},
   "outputs": [],
   "source": [
    "# 열을 고정하고 각 행에 대한 평균, 즉 모든 열별 평균값을 얻어온다.\n",
    "ave_cols = np.mean(X, axis = 0)"
   ]
  },
  {
   "cell_type": "code",
   "execution_count": 7,
   "metadata": {},
   "outputs": [
    {
     "data": {
      "text/plain": [
       "array([2470.832, 2511.172, 2433.985, 2551.437, 2489.788, 2520.355,\n",
       "       2462.848, 2546.658, 2425.998, 2493.038, 2442.615, 2443.33 ,\n",
       "       2492.632, 2498.232, 2446.264, 2457.56 , 2536.153, 2506.731,\n",
       "       2570.888, 2499.38 ])"
      ]
     },
     "execution_count": 7,
     "metadata": {},
     "output_type": "execute_result"
    }
   ],
   "source": [
    "ave_cols"
   ]
  },
  {
   "cell_type": "code",
   "execution_count": 9,
   "metadata": {},
   "outputs": [],
   "source": [
    "# 열을 고정하고 각 행에 대한 표준편차, 즉 모든 열별 표준편차값을 얻어온다.\n",
    "std_cols = np.std(X, axis = 0)"
   ]
  },
  {
   "cell_type": "code",
   "execution_count": 10,
   "metadata": {},
   "outputs": [
    {
     "data": {
      "text/plain": [
       "array([1406.78777567, 1475.93119298, 1433.42179165, 1435.57141377,\n",
       "       1459.80848986, 1472.98366555, 1449.97796083, 1439.51020526,\n",
       "       1436.00039624, 1434.05141489, 1454.71915254, 1453.38063944,\n",
       "       1449.64092125, 1477.16894436, 1458.0229478 , 1437.84136482,\n",
       "       1449.1324486 , 1446.29538499, 1404.16941907, 1457.1608393 ])"
      ]
     },
     "execution_count": 10,
     "metadata": {},
     "output_type": "execute_result"
    }
   ],
   "source": [
    "std_cols"
   ]
  },
  {
   "cell_type": "markdown",
   "metadata": {},
   "source": [
    "각 벡터의 shape 을 확인하세요."
   ]
  },
  {
   "cell_type": "code",
   "execution_count": 11,
   "metadata": {},
   "outputs": [
    {
     "data": {
      "text/plain": [
       "(20,)"
      ]
     },
     "execution_count": 11,
     "metadata": {},
     "output_type": "execute_result"
    }
   ],
   "source": [
    "# Print the shape of ave_cols\n",
    "ave_cols.shape \n",
    "# Print the shape of std_cols\n",
    " "
   ]
  },
  {
   "cell_type": "code",
   "execution_count": 12,
   "metadata": {},
   "outputs": [
    {
     "data": {
      "text/plain": [
       "(20,)"
      ]
     },
     "execution_count": 12,
     "metadata": {},
     "output_type": "execute_result"
    }
   ],
   "source": [
    "std_cols.shape"
   ]
  },
  {
   "cell_type": "code",
   "execution_count": null,
   "metadata": {},
   "outputs": [],
   "source": []
  },
  {
   "cell_type": "markdown",
   "metadata": {},
   "source": [
    "위 공식대로 노멀라이제이션 하세요."
   ]
  },
  {
   "cell_type": "code",
   "execution_count": 13,
   "metadata": {},
   "outputs": [],
   "source": [
    "# Mean normalize X\n",
    "X_norm =  ( X - ave_cols ) / std_cols\n"
   ]
  },
  {
   "cell_type": "code",
   "execution_count": 14,
   "metadata": {},
   "outputs": [
    {
     "data": {
      "text/plain": [
       "array([[ 0.88653599,  0.97079593, -1.50478039, ...,  1.00067318,\n",
       "        -1.78745383,  1.46354468],\n",
       "       [-0.01907324,  0.74991843, -0.56925673, ...,  0.28297746,\n",
       "        -0.49772342, -0.86838732],\n",
       "       [-0.94529681,  1.39629002,  1.01227357, ...,  1.21017395,\n",
       "        -0.3282282 ,  0.14865895],\n",
       "       ...,\n",
       "       [ 0.25886492,  0.15097452,  0.01117257, ...,  0.4053591 ,\n",
       "        -0.41653663,  0.51100742],\n",
       "       [-0.85288771, -1.32402649, -0.71575932, ..., -0.67049305,\n",
       "         1.5055961 ,  0.87266962],\n",
       "       [ 0.22261211,  1.48640263, -0.63622934, ..., -1.34393777,\n",
       "        -0.07327321, -1.70769069]])"
      ]
     },
     "execution_count": 14,
     "metadata": {},
     "output_type": "execute_result"
    }
   ],
   "source": [
    "X_norm"
   ]
  },
  {
   "cell_type": "markdown",
   "metadata": {},
   "source": [
    "제대로 수행했으면 아마 $X_{\\tiny{\\mbox{norm}}}$ 배열은 값들이 0 근처의 값들로 나올겁니다.아래를 통해 확인하세요."
   ]
  },
  {
   "cell_type": "code",
   "execution_count": 15,
   "metadata": {},
   "outputs": [
    {
     "name": "stdout",
     "output_type": "stream",
     "text": [
      "[[ 0.88653599  0.97079593 -1.50478039 ...  1.00067318 -1.78745383\n",
      "   1.46354468]\n",
      " [-0.01907324  0.74991843 -0.56925673 ...  0.28297746 -0.49772342\n",
      "  -0.86838732]\n",
      " [-0.94529681  1.39629002  1.01227357 ...  1.21017395 -0.3282282\n",
      "   0.14865895]\n",
      " ...\n",
      " [ 0.25886492  0.15097452  0.01117257 ...  0.4053591  -0.41653663\n",
      "   0.51100742]\n",
      " [-0.85288771 -1.32402649 -0.71575932 ... -0.67049305  1.5055961\n",
      "   0.87266962]\n",
      " [ 0.22261211  1.48640263 -0.63622934 ... -1.34393777 -0.07327321\n",
      "  -1.70769069]]\n"
     ]
    }
   ],
   "source": [
    "# X_norm 을 출력(프린트) 하세요.\n",
    "print(X_norm)\n"
   ]
  },
  {
   "cell_type": "code",
   "execution_count": 16,
   "metadata": {},
   "outputs": [
    {
     "data": {
      "text/plain": [
       "array([-1.75636442, -1.69938274, -1.69593138, -1.7752074 , -1.70418792,\n",
       "       -1.69883418, -1.69440368, -1.76841956, -1.68593129, -1.73636592,\n",
       "       -1.67359796, -1.67907149, -1.71672306, -1.69055274, -1.67230838,\n",
       "       -1.70572364, -1.74873801, -1.72491113, -1.83018371, -1.71523962])"
      ]
     },
     "execution_count": 16,
     "metadata": {},
     "output_type": "execute_result"
    }
   ],
   "source": [
    "# 각 컬럼(열)별 minimum value 를 출력하세요.\n",
    "np.min(X_norm, axis = 0)"
   ]
  },
  {
   "cell_type": "code",
   "execution_count": 17,
   "metadata": {},
   "outputs": [
    {
     "data": {
      "text/plain": [
       "array([1.79641026, 1.68492136, 1.78943491, 1.69936722, 1.7181788 ,\n",
       "       1.68070092, 1.74702793, 1.69873197, 1.78481984, 1.7467728 ,\n",
       "       1.75524258, 1.75705519, 1.72205956, 1.69159256, 1.75082018,\n",
       "       1.76753852, 1.69746182, 1.72113458, 1.72565502, 1.71197299])"
      ]
     },
     "execution_count": 17,
     "metadata": {},
     "output_type": "execute_result"
    }
   ],
   "source": [
    "# 각 컬럼(열)별 maximum value 를 출력하세요.\n",
    "np.max(X_norm, axis = 0)"
   ]
  },
  {
   "cell_type": "code",
   "execution_count": 19,
   "metadata": {},
   "outputs": [
    {
     "data": {
      "text/plain": [
       "array([ 1.15268906e-16,  2.55351296e-17, -5.71764858e-17,  9.21485110e-17,\n",
       "       -6.55031585e-18, -9.42301792e-18,  2.17603713e-17,  7.76601006e-17,\n",
       "       -6.21724894e-17,  1.05471187e-17,  1.62453384e-16,  7.36632977e-17,\n",
       "       -6.27345398e-17,  1.31006317e-17, -7.61612995e-17,  1.61537450e-17,\n",
       "        1.37889700e-16, -1.33004718e-16,  1.08774101e-16, -2.59792188e-17])"
      ]
     },
     "execution_count": 19,
     "metadata": {},
     "output_type": "execute_result"
    }
   ],
   "source": [
    "np.mean(X_norm, axis = 0)"
   ]
  },
  {
   "cell_type": "code",
   "execution_count": 22,
   "metadata": {},
   "outputs": [
    {
     "data": {
      "text/plain": [
       "array([2470.832, 2511.172, 2433.985, 2551.437, 2489.788, 2520.355,\n",
       "       2462.848, 2546.658, 2425.998, 2493.038, 2442.615, 2443.33 ,\n",
       "       2492.632, 2498.232, 2446.264, 2457.56 , 2536.153, 2506.731,\n",
       "       2570.888, 2499.38 ])"
      ]
     },
     "execution_count": 22,
     "metadata": {},
     "output_type": "execute_result"
    }
   ],
   "source": [
    "np.mean(X, axis = 0)"
   ]
  },
  {
   "cell_type": "code",
   "execution_count": null,
   "metadata": {},
   "outputs": [],
   "source": []
  }
 ],
 "metadata": {
  "kernelspec": {
   "display_name": "Python 3",
   "language": "python",
   "name": "python3"
  },
  "language_info": {
   "codemirror_mode": {
    "name": "ipython",
    "version": 3
   },
   "file_extension": ".py",
   "mimetype": "text/x-python",
   "name": "python",
   "nbconvert_exporter": "python",
   "pygments_lexer": "ipython3",
   "version": "3.8.3"
  }
 },
 "nbformat": 4,
 "nbformat_minor": 2
}
